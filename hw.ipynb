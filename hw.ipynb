{
 "cells": [
  {
   "cell_type": "code",
   "execution_count": 12,
   "id": "c58b4c9e",
   "metadata": {},
   "outputs": [],
   "source": [
    "import numpy as np\n",
    "import pandas as pd\n",
    "from keras.preprocessing import sequence\n",
    "from keras.models import Sequential\n",
    "from keras.layers import Dense, Embedding\n",
    "from keras.layers import LSTM\n",
    "from keras.datasets import imdb\n",
    "from keras.utils import pad_sequences"
   ]
  },
  {
   "cell_type": "code",
   "execution_count": 2,
   "id": "4d114143",
   "metadata": {},
   "outputs": [],
   "source": [
    "max_features = 20000\n",
    "maxlen = 80"
   ]
  },
  {
   "cell_type": "code",
   "execution_count": 3,
   "id": "2c0b91c4",
   "metadata": {},
   "outputs": [
    {
     "name": "stdout",
     "output_type": "stream",
     "text": [
      "Загрузка данных...\n",
      "25000 тренировочные последовательности\n",
      "25000 тестовые последовательности\n"
     ]
    }
   ],
   "source": [
    "print('Загрузка данных...')\n",
    "(x_train, y_train), (x_test, y_test) = imdb.load_data(num_words=max_features)\n",
    "print(len(x_train), 'тренировочные последовательности')\n",
    "print(len(x_test), 'тестовые последовательности')"
   ]
  },
  {
   "cell_type": "code",
   "execution_count": 4,
   "id": "cc3e05ac",
   "metadata": {},
   "outputs": [
    {
     "name": "stdout",
     "output_type": "stream",
     "text": [
      "Pad последовательности (примеров в x единицу времени)\n",
      "x_train shape: (25000, 80)\n",
      "x_test shape: (25000, 80)\n"
     ]
    }
   ],
   "source": [
    "print('Pad последовательности (примеров в x единицу времени)')\n",
    "x_train = pad_sequences(x_train, maxlen=maxlen)\n",
    "x_test = pad_sequences(x_test, maxlen=maxlen)\n",
    "print('x_train shape:', x_train.shape)\n",
    "print('x_test shape:', x_test.shape)"
   ]
  },
  {
   "cell_type": "code",
   "execution_count": 5,
   "id": "2c73b7ec",
   "metadata": {},
   "outputs": [
    {
     "name": "stdout",
     "output_type": "stream",
     "text": [
      "Построение модели...\n"
     ]
    }
   ],
   "source": [
    "print('Построение модели...')\n",
    "model = Sequential()\n",
    "model.add(Embedding(max_features, 128))\n",
    "model.add(LSTM(128, dropout=0.2, recurrent_dropout=0.2))\n",
    "model.add(Dense(1, activation='sigmoid'))"
   ]
  },
  {
   "cell_type": "code",
   "execution_count": 6,
   "id": "7c41823d",
   "metadata": {},
   "outputs": [],
   "source": [
    "def f(batch_size=50, optimizer='adam', epochs=1):\n",
    "    \n",
    "    model.compile(loss='binary_crossentropy',\n",
    "              optimizer=optimizer,\n",
    "              metrics=['accuracy'])\n",
    "    \n",
    "    print('Процесс обучения...')\n",
    "    model.fit(x_train, y_train,\n",
    "              batch_size=batch_size,\n",
    "              epochs=epochs,\n",
    "              validation_data=(x_test, y_test))\n",
    "    score, acc = model.evaluate(x_test, y_test,\n",
    "                                batch_size=batch_size)\n",
    "    print('Результат при тестировании:', score)\n",
    "    print('Тестовая точность:', acc)\n",
    "    \n",
    "    return acc"
   ]
  },
  {
   "cell_type": "code",
   "execution_count": 7,
   "id": "32e8d95d",
   "metadata": {},
   "outputs": [
    {
     "name": "stdout",
     "output_type": "stream",
     "text": [
      "Процесс обучения...\n",
      "500/500 [==============================] - 127s 251ms/step - loss: 0.4236 - accuracy: 0.8014 - val_loss: 0.3524 - val_accuracy: 0.8448\n",
      "500/500 [==============================] - 16s 32ms/step - loss: 0.3524 - accuracy: 0.8448\n",
      "Результат при тестировании: 0.3524385094642639\n",
      "Тестовая точность: 0.844760000705719\n",
      "Процесс обучения...\n",
      "Epoch 1/2\n",
      "500/500 [==============================] - 142s 278ms/step - loss: 0.2535 - accuracy: 0.8968 - val_loss: 0.3780 - val_accuracy: 0.8310\n",
      "Epoch 2/2\n",
      "500/500 [==============================] - 132s 264ms/step - loss: 0.1702 - accuracy: 0.9368 - val_loss: 0.4348 - val_accuracy: 0.8297\n",
      "500/500 [==============================] - 16s 33ms/step - loss: 0.4348 - accuracy: 0.8297\n",
      "Результат при тестировании: 0.4348355531692505\n",
      "Тестовая точность: 0.8296800255775452\n",
      "Процесс обучения...\n",
      "500/500 [==============================] - 116s 227ms/step - loss: 0.1040 - accuracy: 0.9630 - val_loss: 0.5568 - val_accuracy: 0.8295\n",
      "500/500 [==============================] - 15s 29ms/step - loss: 0.5568 - accuracy: 0.8295\n",
      "Результат при тестировании: 0.5567550659179688\n",
      "Тестовая точность: 0.829479992389679\n",
      "Процесс обучения...\n",
      "Epoch 1/2\n",
      "500/500 [==============================] - 119s 234ms/step - loss: 0.0849 - accuracy: 0.9709 - val_loss: 0.5562 - val_accuracy: 0.8293\n",
      "Epoch 2/2\n",
      "500/500 [==============================] - 118s 237ms/step - loss: 0.0669 - accuracy: 0.9777 - val_loss: 0.8170 - val_accuracy: 0.8094\n",
      "500/500 [==============================] - 15s 30ms/step - loss: 0.8170 - accuracy: 0.8094\n",
      "Результат при тестировании: 0.8169659972190857\n",
      "Тестовая точность: 0.8094000220298767\n",
      "Процесс обучения...\n",
      "250/250 [==============================] - 105s 404ms/step - loss: 0.0613 - accuracy: 0.9792 - val_loss: 0.6615 - val_accuracy: 0.8196\n",
      "250/250 [==============================] - 11s 45ms/step - loss: 0.6615 - accuracy: 0.8196\n",
      "Результат при тестировании: 0.6614757776260376\n",
      "Тестовая точность: 0.8195599913597107\n",
      "Процесс обучения...\n",
      "Epoch 1/2\n",
      "250/250 [==============================] - 115s 449ms/step - loss: 0.0451 - accuracy: 0.9841 - val_loss: 0.7640 - val_accuracy: 0.8122\n",
      "Epoch 2/2\n",
      "250/250 [==============================] - 98s 394ms/step - loss: 0.0255 - accuracy: 0.9917 - val_loss: 0.8747 - val_accuracy: 0.8094\n",
      "250/250 [==============================] - 11s 45ms/step - loss: 0.8747 - accuracy: 0.8094\n",
      "Результат при тестировании: 0.8746879696846008\n",
      "Тестовая точность: 0.8093600273132324\n",
      "Процесс обучения...\n",
      "250/250 [==============================] - 84s 330ms/step - loss: 0.0181 - accuracy: 0.9940 - val_loss: 0.9901 - val_accuracy: 0.8135\n",
      "250/250 [==============================] - 11s 44ms/step - loss: 0.9901 - accuracy: 0.8135\n",
      "Результат при тестировании: 0.9900782704353333\n",
      "Тестовая точность: 0.813480019569397\n",
      "Процесс обучения...\n",
      "Epoch 1/2\n",
      "250/250 [==============================] - 84s 329ms/step - loss: 0.0142 - accuracy: 0.9958 - val_loss: 1.0948 - val_accuracy: 0.8132\n",
      "Epoch 2/2\n",
      "250/250 [==============================] - 81s 325ms/step - loss: 0.0106 - accuracy: 0.9974 - val_loss: 1.1057 - val_accuracy: 0.8152\n",
      "250/250 [==============================] - 11s 44ms/step - loss: 1.1057 - accuracy: 0.8152\n",
      "Результат при тестировании: 1.1057404279708862\n",
      "Тестовая точность: 0.8151999711990356\n"
     ]
    }
   ],
   "source": [
    "accs = []\n",
    "\n",
    "for batch_size in [50, 100]:\n",
    "    for optimizer in ['adam', 'rmsprop']:\n",
    "        for epochs in [1, 2]:\n",
    "            accs.append(f(batch_size, optimizer, epochs))"
   ]
  },
  {
   "cell_type": "code",
   "execution_count": 9,
   "id": "eb5578cc",
   "metadata": {},
   "outputs": [
    {
     "data": {
      "text/html": [
       "<div>\n",
       "<style scoped>\n",
       "    .dataframe tbody tr th:only-of-type {\n",
       "        vertical-align: middle;\n",
       "    }\n",
       "\n",
       "    .dataframe tbody tr th {\n",
       "        vertical-align: top;\n",
       "    }\n",
       "\n",
       "    .dataframe thead th {\n",
       "        text-align: right;\n",
       "    }\n",
       "</style>\n",
       "<table border=\"1\" class=\"dataframe\">\n",
       "  <thead>\n",
       "    <tr style=\"text-align: right;\">\n",
       "      <th></th>\n",
       "      <th>batch_size</th>\n",
       "      <th>optimizer</th>\n",
       "      <th>epochs</th>\n",
       "      <th>accuracy</th>\n",
       "    </tr>\n",
       "  </thead>\n",
       "  <tbody>\n",
       "    <tr>\n",
       "      <th>0</th>\n",
       "      <td>50</td>\n",
       "      <td>adam</td>\n",
       "      <td>1</td>\n",
       "      <td>0.83732</td>\n",
       "    </tr>\n",
       "    <tr>\n",
       "      <th>1</th>\n",
       "      <td>50</td>\n",
       "      <td>adam</td>\n",
       "      <td>2</td>\n",
       "      <td>0.82568</td>\n",
       "    </tr>\n",
       "    <tr>\n",
       "      <th>2</th>\n",
       "      <td>50</td>\n",
       "      <td>rmsprop</td>\n",
       "      <td>1</td>\n",
       "      <td>0.83568</td>\n",
       "    </tr>\n",
       "  </tbody>\n",
       "</table>\n",
       "</div>"
      ],
      "text/plain": [
       "   batch_size optimizer  epochs  accuracy\n",
       "0          50      adam       1   0.83732\n",
       "1          50      adam       2   0.82568\n",
       "2          50   rmsprop       1   0.83568"
      ]
     },
     "execution_count": 9,
     "metadata": {},
     "output_type": "execute_result"
    }
   ],
   "source": [
    "pd.DataFrame({'batch_size': [50, 50, 50, 50],\n",
    "             'optimizer': ['adam', 'adam', 'rmsprop', 'rmsprop'],\n",
    "             'epochs': [1, 2, 1, 2],\n",
    "             'accuracy': [0.83732, 0.82568, 0.83568, 0.84696]})"
   ]
  },
  {
   "cell_type": "code",
   "execution_count": 10,
   "id": "45dd0678",
   "metadata": {},
   "outputs": [
    {
     "data": {
      "text/html": [
       "<div>\n",
       "<style scoped>\n",
       "    .dataframe tbody tr th:only-of-type {\n",
       "        vertical-align: middle;\n",
       "    }\n",
       "\n",
       "    .dataframe tbody tr th {\n",
       "        vertical-align: top;\n",
       "    }\n",
       "\n",
       "    .dataframe thead th {\n",
       "        text-align: right;\n",
       "    }\n",
       "</style>\n",
       "<table border=\"1\" class=\"dataframe\">\n",
       "  <thead>\n",
       "    <tr style=\"text-align: right;\">\n",
       "      <th></th>\n",
       "      <th></th>\n",
       "      <th></th>\n",
       "      <th>accuracy</th>\n",
       "    </tr>\n",
       "    <tr>\n",
       "      <th>batch_size</th>\n",
       "      <th>optimizer</th>\n",
       "      <th>epochs</th>\n",
       "      <th></th>\n",
       "    </tr>\n",
       "  </thead>\n",
       "  <tbody>\n",
       "    <tr>\n",
       "      <th rowspan=\"4\" valign=\"top\">50</th>\n",
       "      <th rowspan=\"2\" valign=\"top\">adam</th>\n",
       "      <th>1</th>\n",
       "      <td>0.84476</td>\n",
       "    </tr>\n",
       "    <tr>\n",
       "      <th>2</th>\n",
       "      <td>0.82968</td>\n",
       "    </tr>\n",
       "    <tr>\n",
       "      <th rowspan=\"2\" valign=\"top\">rmsprop</th>\n",
       "      <th>1</th>\n",
       "      <td>0.82948</td>\n",
       "    </tr>\n",
       "    <tr>\n",
       "      <th>2</th>\n",
       "      <td>0.80940</td>\n",
       "    </tr>\n",
       "    <tr>\n",
       "      <th rowspan=\"4\" valign=\"top\">100</th>\n",
       "      <th rowspan=\"2\" valign=\"top\">adam</th>\n",
       "      <th>1</th>\n",
       "      <td>0.81956</td>\n",
       "    </tr>\n",
       "    <tr>\n",
       "      <th>2</th>\n",
       "      <td>0.80936</td>\n",
       "    </tr>\n",
       "    <tr>\n",
       "      <th rowspan=\"2\" valign=\"top\">rmsprop</th>\n",
       "      <th>1</th>\n",
       "      <td>0.81348</td>\n",
       "    </tr>\n",
       "    <tr>\n",
       "      <th>2</th>\n",
       "      <td>0.81520</td>\n",
       "    </tr>\n",
       "  </tbody>\n",
       "</table>\n",
       "</div>"
      ],
      "text/plain": [
       "                             accuracy\n",
       "batch_size optimizer epochs          \n",
       "50         adam      1        0.84476\n",
       "                     2        0.82968\n",
       "           rmsprop   1        0.82948\n",
       "                     2        0.80940\n",
       "100        adam      1        0.81956\n",
       "                     2        0.80936\n",
       "           rmsprop   1        0.81348\n",
       "                     2        0.81520"
      ]
     },
     "execution_count": 10,
     "metadata": {},
     "output_type": "execute_result"
    }
   ],
   "source": [
    "pd.DataFrame({'accuracy': accs},\n",
    "            index=pd.MultiIndex.from_product([[50, 100], ['adam', 'rmsprop'], [1, 2]], \n",
    "                                             names=['batch_size', 'optimizer', 'epochs']))"
   ]
  },
  {
   "cell_type": "code",
   "execution_count": null,
   "id": "cf362ac9",
   "metadata": {},
   "outputs": [],
   "source": []
  }
 ],
 "metadata": {
  "kernelspec": {
   "display_name": "Python 3 (ipykernel)",
   "language": "python",
   "name": "python3"
  },
  "language_info": {
   "codemirror_mode": {
    "name": "ipython",
    "version": 3
   },
   "file_extension": ".py",
   "mimetype": "text/x-python",
   "name": "python",
   "nbconvert_exporter": "python",
   "pygments_lexer": "ipython3",
   "version": "3.9.7"
  }
 },
 "nbformat": 4,
 "nbformat_minor": 5
}
